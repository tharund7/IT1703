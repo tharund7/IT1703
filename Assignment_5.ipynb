{
  "nbformat": 4,
  "nbformat_minor": 0,
  "metadata": {
    "colab": {
      "provenance": [],
      "authorship_tag": "ABX9TyMY/ajNAj2cSiWcL+YYGO/p",
      "include_colab_link": true
    },
    "kernelspec": {
      "name": "python3",
      "display_name": "Python 3"
    },
    "language_info": {
      "name": "python"
    }
  },
  "cells": [
    {
      "cell_type": "markdown",
      "metadata": {
        "id": "view-in-github",
        "colab_type": "text"
      },
      "source": [
        "<a href=\"https://colab.research.google.com/github/tharund7/IT1703/blob/main/Assignment_5.ipynb\" target=\"_parent\"><img src=\"https://colab.research.google.com/assets/colab-badge.svg\" alt=\"Open In Colab\"/></a>"
      ]
    },
    {
      "cell_type": "code",
      "execution_count": null,
      "metadata": {
        "id": "EOu0gRSNouKz"
      },
      "outputs": [],
      "source": [
        "import pandas as pd\n",
        "from sklearn.model_selection import train_test_split\n",
        "from sklearn.preprocessing import StandardScaler\n",
        "from sklearn.tree import DecisionTreeRegressor\n",
        "from sklearn.ensemble import RandomForestRegressor\n",
        "from sklearn.metrics import mean_squared_error, r2_score\n",
        "\n"
      ]
    },
    {
      "cell_type": "markdown",
      "source": [
        "Loading and Check the Dataset"
      ],
      "metadata": {
        "id": "4Ji_KPf7r9CV"
      }
    },
    {
      "cell_type": "code",
      "source": [
        "# Load the dataset\n",
        "file_path = 'real_estate_value.csv'\n",
        "data = pd.read_csv(file_path)\n",
        "\n",
        "# Checking the dataset\n",
        "print(data.head())\n",
        "\n"
      ],
      "metadata": {
        "colab": {
          "base_uri": "https://localhost:8080/"
        },
        "id": "ctKmpGbopG_t",
        "outputId": "7e457d50-005b-4673-f9b2-ffe2b13b2451"
      },
      "execution_count": null,
      "outputs": [
        {
          "output_type": "stream",
          "name": "stdout",
          "text": [
            "   HouseAge  DistanceToMRT  NoOfStores  Latitude  Longitude  UnitPrice\n",
            "0      32.0       84.87882          10  24.98298  121.54024       37.9\n",
            "1      19.5      306.59470           9  24.98034  121.53951       42.2\n",
            "2      13.3      561.98450           5  24.98746  121.54391       47.3\n",
            "3      13.3      561.98450           5  24.98746  121.54391       54.8\n",
            "4       5.0      390.56840           5  24.97937  121.54245       43.1\n"
          ]
        }
      ]
    },
    {
      "cell_type": "markdown",
      "source": [
        "# Spliting the Data into Training and Testing Sets"
      ],
      "metadata": {
        "id": "vMpYE-wTr2SE"
      }
    },
    {
      "cell_type": "code",
      "source": [
        "# Split the data into training and testing sets (80% train, 20% test)\n",
        "train_data, test_data = train_test_split(data, test_size=0.2, random_state=42)\n"
      ],
      "metadata": {
        "id": "KenRUZuIrC6C"
      },
      "execution_count": null,
      "outputs": []
    },
    {
      "cell_type": "markdown",
      "source": [
        "# Check for missing values"
      ],
      "metadata": {
        "id": "eQ4ow1yyrqkr"
      }
    },
    {
      "cell_type": "code",
      "source": [
        "# Check for missing values\n",
        "print(data.isnull().sum())\n",
        "\n",
        "# Describe the data for summary statistics\n",
        "print(data.describe())\n"
      ],
      "metadata": {
        "colab": {
          "base_uri": "https://localhost:8080/"
        },
        "id": "XzTTfU6rpL3x",
        "outputId": "40d83564-f1a6-490c-e8a9-f81953c0031b"
      },
      "execution_count": null,
      "outputs": [
        {
          "output_type": "stream",
          "name": "stdout",
          "text": [
            "HouseAge         0\n",
            "DistanceToMRT    0\n",
            "NoOfStores       0\n",
            "Latitude         0\n",
            "Longitude        0\n",
            "UnitPrice        0\n",
            "dtype: int64\n",
            "         HouseAge  DistanceToMRT  NoOfStores    Latitude   Longitude  \\\n",
            "count  414.000000     414.000000  414.000000  414.000000  414.000000   \n",
            "mean    17.712560    1083.885689    4.094203   24.969030  121.533361   \n",
            "std     11.392485    1262.109595    2.945562    0.012410    0.015347   \n",
            "min      0.000000      23.382840    0.000000   24.932070  121.473530   \n",
            "25%      9.025000     289.324800    1.000000   24.963000  121.528085   \n",
            "50%     16.100000     492.231300    4.000000   24.971100  121.538630   \n",
            "75%     28.150000    1454.279000    6.000000   24.977455  121.543305   \n",
            "max     43.800000    6488.021000   10.000000   25.014590  121.566270   \n",
            "\n",
            "        UnitPrice  \n",
            "count  414.000000  \n",
            "mean    37.980193  \n",
            "std     13.606488  \n",
            "min      7.600000  \n",
            "25%     27.700000  \n",
            "50%     38.450000  \n",
            "75%     46.600000  \n",
            "max    117.500000  \n"
          ]
        }
      ]
    },
    {
      "cell_type": "markdown",
      "source": [
        "# Preprocessing - Scaling the Features"
      ],
      "metadata": {
        "id": "-8UMte9Jrl9d"
      }
    },
    {
      "cell_type": "code",
      "source": [
        "# Scaling features\n",
        "scaler = StandardScaler()\n",
        "scaled_features = scaler.fit_transform(data[['HouseAge', 'DistanceToMRT', 'NoOfStores', 'Latitude', 'Longitude']])\n",
        "\n",
        "# Create a new DataFrame with scaled features\n",
        "scaled_data = pd.DataFrame(scaled_features, columns=['HouseAge', 'DistanceToMRT', 'NoOfStores', 'Latitude', 'Longitude'])\n",
        "scaled_data['UnitPrice'] = data['UnitPrice']\n",
        "\n"
      ],
      "metadata": {
        "id": "pj4X0B3MpNS9"
      },
      "execution_count": null,
      "outputs": []
    },
    {
      "cell_type": "markdown",
      "source": [
        "# Splitting the Scaled Data into Training and Testing Sets Again"
      ],
      "metadata": {
        "id": "AbVRWiOArhHH"
      }
    },
    {
      "cell_type": "code",
      "source": [
        "# Split the scaled data into training and testing sets again\n",
        "train_data, test_data = train_test_split(scaled_data, test_size=0.2, random_state=42)\n",
        "\n",
        "# Separate features and target variable\n",
        "X_train = train_data.drop('UnitPrice', axis=1)\n",
        "y_train = train_data['UnitPrice']\n",
        "X_test = test_data.drop('UnitPrice', axis=1)\n",
        "y_test = test_data['UnitPrice']\n"
      ],
      "metadata": {
        "id": "IOTWx1OIrKOb"
      },
      "execution_count": null,
      "outputs": []
    },
    {
      "cell_type": "markdown",
      "source": [
        "# Training  and Evaluate the Decision Tree Model\n"
      ],
      "metadata": {
        "id": "dKqsSRMlrbNO"
      }
    },
    {
      "cell_type": "code",
      "source": [
        "# Train the decision tree model\n",
        "dt_model = DecisionTreeRegressor(random_state=42)\n",
        "dt_model.fit(X_train, y_train)\n",
        "\n",
        "# Predict and evaluate\n",
        "y_pred_dt = dt_model.predict(X_test)\n",
        "dt_mse = mean_squared_error(y_test, y_pred_dt)\n",
        "dt_r2 = r2_score(y_test, y_pred_dt)\n",
        "\n",
        "print(f\"Decision Tree - MSE: {dt_mse}, R2: {dt_r2}\")\n"
      ],
      "metadata": {
        "colab": {
          "base_uri": "https://localhost:8080/"
        },
        "id": "sCuIdVhbrPdp",
        "outputId": "02cd2cf4-3f5e-48fb-ef82-0e19a693c21c"
      },
      "execution_count": null,
      "outputs": [
        {
          "output_type": "stream",
          "name": "stdout",
          "text": [
            "Decision Tree - MSE: 58.487228915662655, R2: 0.6513631498252379\n"
          ]
        }
      ]
    },
    {
      "cell_type": "markdown",
      "source": [
        "#  Training  and Evaluate the Random Forest Model\n"
      ],
      "metadata": {
        "id": "l5yzKmObrYAy"
      }
    },
    {
      "cell_type": "code",
      "source": [
        "# Train the random forest model\n",
        "rf_model = RandomForestRegressor(random_state=42)\n",
        "rf_model.fit(X_train, y_train)\n",
        "\n",
        "# Predict and evaluate\n",
        "y_pred_rf = rf_model.predict(X_test)\n",
        "rf_mse = mean_squared_error(y_test, y_pred_rf)\n",
        "rf_r2 = r2_score(y_test, y_pred_rf)\n",
        "\n",
        "print(f\"Random Forest - MSE: {rf_mse}, R2: {rf_r2}\")\n",
        "\n"
      ],
      "metadata": {
        "colab": {
          "base_uri": "https://localhost:8080/"
        },
        "id": "LkVQbd6fpRpa",
        "outputId": "5c5da6bb-5cf6-4ff6-9bc7-f8906688c526"
      },
      "execution_count": null,
      "outputs": [
        {
          "output_type": "stream",
          "name": "stdout",
          "text": [
            "Random Forest - MSE: 34.45728335160443, R2: 0.7946033868247504\n"
          ]
        }
      ]
    }
  ]
}